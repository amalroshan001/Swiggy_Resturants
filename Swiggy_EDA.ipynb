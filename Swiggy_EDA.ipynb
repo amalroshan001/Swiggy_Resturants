{
 "cells": [
  {
   "cell_type": "code",
   "execution_count": 3,
   "id": "a29ce507",
   "metadata": {},
   "outputs": [],
   "source": [
    "import pandas as pd\n",
    "import numpy as np\n",
    "import matplotlib.pyplot as plt\n",
    "import seaborn as sns"
   ]
  },
  {
   "cell_type": "code",
   "execution_count": 5,
   "id": "e0e3b95c",
   "metadata": {},
   "outputs": [
    {
     "data": {
      "text/html": [
       "<div>\n",
       "<style scoped>\n",
       "    .dataframe tbody tr th:only-of-type {\n",
       "        vertical-align: middle;\n",
       "    }\n",
       "\n",
       "    .dataframe tbody tr th {\n",
       "        vertical-align: top;\n",
       "    }\n",
       "\n",
       "    .dataframe thead th {\n",
       "        text-align: right;\n",
       "    }\n",
       "</style>\n",
       "<table border=\"1\" class=\"dataframe\">\n",
       "  <thead>\n",
       "    <tr style=\"text-align: right;\">\n",
       "      <th></th>\n",
       "      <th>ID</th>\n",
       "      <th>Area</th>\n",
       "      <th>City</th>\n",
       "      <th>Restaurant</th>\n",
       "      <th>Price</th>\n",
       "      <th>Avg ratings</th>\n",
       "      <th>Total ratings</th>\n",
       "      <th>Food type</th>\n",
       "      <th>Address</th>\n",
       "      <th>Delivery time</th>\n",
       "    </tr>\n",
       "  </thead>\n",
       "  <tbody>\n",
       "    <tr>\n",
       "      <th>0</th>\n",
       "      <td>211</td>\n",
       "      <td>Koramangala</td>\n",
       "      <td>Bangalore</td>\n",
       "      <td>Tandoor Hut</td>\n",
       "      <td>300.0</td>\n",
       "      <td>4.4</td>\n",
       "      <td>100</td>\n",
       "      <td>Biryani,Chinese,North Indian,South Indian</td>\n",
       "      <td>5Th Block</td>\n",
       "      <td>59</td>\n",
       "    </tr>\n",
       "    <tr>\n",
       "      <th>1</th>\n",
       "      <td>221</td>\n",
       "      <td>Koramangala</td>\n",
       "      <td>Bangalore</td>\n",
       "      <td>Tunday Kababi</td>\n",
       "      <td>300.0</td>\n",
       "      <td>4.1</td>\n",
       "      <td>100</td>\n",
       "      <td>Mughlai,Lucknowi</td>\n",
       "      <td>5Th Block</td>\n",
       "      <td>56</td>\n",
       "    </tr>\n",
       "    <tr>\n",
       "      <th>2</th>\n",
       "      <td>246</td>\n",
       "      <td>Jogupalya</td>\n",
       "      <td>Bangalore</td>\n",
       "      <td>Kim Lee</td>\n",
       "      <td>650.0</td>\n",
       "      <td>4.4</td>\n",
       "      <td>100</td>\n",
       "      <td>Chinese</td>\n",
       "      <td>Double Road</td>\n",
       "      <td>50</td>\n",
       "    </tr>\n",
       "    <tr>\n",
       "      <th>3</th>\n",
       "      <td>248</td>\n",
       "      <td>Indiranagar</td>\n",
       "      <td>Bangalore</td>\n",
       "      <td>New Punjabi Hotel</td>\n",
       "      <td>250.0</td>\n",
       "      <td>3.9</td>\n",
       "      <td>500</td>\n",
       "      <td>North Indian,Punjabi,Tandoor,Chinese</td>\n",
       "      <td>80 Feet Road</td>\n",
       "      <td>57</td>\n",
       "    </tr>\n",
       "    <tr>\n",
       "      <th>4</th>\n",
       "      <td>249</td>\n",
       "      <td>Indiranagar</td>\n",
       "      <td>Bangalore</td>\n",
       "      <td>Nh8</td>\n",
       "      <td>350.0</td>\n",
       "      <td>4.0</td>\n",
       "      <td>50</td>\n",
       "      <td>Rajasthani,Gujarati,North Indian,Snacks,Desser...</td>\n",
       "      <td>80 Feet Road</td>\n",
       "      <td>63</td>\n",
       "    </tr>\n",
       "    <tr>\n",
       "      <th>...</th>\n",
       "      <td>...</td>\n",
       "      <td>...</td>\n",
       "      <td>...</td>\n",
       "      <td>...</td>\n",
       "      <td>...</td>\n",
       "      <td>...</td>\n",
       "      <td>...</td>\n",
       "      <td>...</td>\n",
       "      <td>...</td>\n",
       "      <td>...</td>\n",
       "    </tr>\n",
       "    <tr>\n",
       "      <th>8675</th>\n",
       "      <td>464626</td>\n",
       "      <td>Panjarapole Cross Road</td>\n",
       "      <td>Ahmedabad</td>\n",
       "      <td>Malt Pizza</td>\n",
       "      <td>500.0</td>\n",
       "      <td>2.9</td>\n",
       "      <td>80</td>\n",
       "      <td>Pizzas</td>\n",
       "      <td>Navrangpura</td>\n",
       "      <td>40</td>\n",
       "    </tr>\n",
       "    <tr>\n",
       "      <th>8676</th>\n",
       "      <td>465835</td>\n",
       "      <td>Rohini</td>\n",
       "      <td>Delhi</td>\n",
       "      <td>Jay Mata Ji Home Kitchen</td>\n",
       "      <td>200.0</td>\n",
       "      <td>2.9</td>\n",
       "      <td>80</td>\n",
       "      <td>South Indian</td>\n",
       "      <td>Rohini</td>\n",
       "      <td>28</td>\n",
       "    </tr>\n",
       "    <tr>\n",
       "      <th>8677</th>\n",
       "      <td>465872</td>\n",
       "      <td>Rohini</td>\n",
       "      <td>Delhi</td>\n",
       "      <td>Chinese Kitchen King</td>\n",
       "      <td>150.0</td>\n",
       "      <td>2.9</td>\n",
       "      <td>80</td>\n",
       "      <td>Chinese,Snacks,Tandoor</td>\n",
       "      <td>Rohini</td>\n",
       "      <td>58</td>\n",
       "    </tr>\n",
       "    <tr>\n",
       "      <th>8678</th>\n",
       "      <td>465990</td>\n",
       "      <td>Rohini</td>\n",
       "      <td>Delhi</td>\n",
       "      <td>Shree Ram Paratha Wala</td>\n",
       "      <td>150.0</td>\n",
       "      <td>2.9</td>\n",
       "      <td>80</td>\n",
       "      <td>North Indian,Indian,Snacks</td>\n",
       "      <td>Rohini</td>\n",
       "      <td>28</td>\n",
       "    </tr>\n",
       "    <tr>\n",
       "      <th>8679</th>\n",
       "      <td>466488</td>\n",
       "      <td>Navrangpura</td>\n",
       "      <td>Ahmedabad</td>\n",
       "      <td>Sassy Street</td>\n",
       "      <td>250.0</td>\n",
       "      <td>2.9</td>\n",
       "      <td>80</td>\n",
       "      <td>Chaat,Snacks,Chinese</td>\n",
       "      <td>Navrangpura</td>\n",
       "      <td>44</td>\n",
       "    </tr>\n",
       "  </tbody>\n",
       "</table>\n",
       "<p>8680 rows × 10 columns</p>\n",
       "</div>"
      ],
      "text/plain": [
       "          ID                    Area       City                Restaurant  \\\n",
       "0        211             Koramangala  Bangalore               Tandoor Hut   \n",
       "1        221             Koramangala  Bangalore             Tunday Kababi   \n",
       "2        246               Jogupalya  Bangalore                   Kim Lee   \n",
       "3        248             Indiranagar  Bangalore         New Punjabi Hotel   \n",
       "4        249             Indiranagar  Bangalore                       Nh8   \n",
       "...      ...                     ...        ...                       ...   \n",
       "8675  464626  Panjarapole Cross Road  Ahmedabad                Malt Pizza   \n",
       "8676  465835                  Rohini      Delhi  Jay Mata Ji Home Kitchen   \n",
       "8677  465872                  Rohini      Delhi      Chinese Kitchen King   \n",
       "8678  465990                  Rohini      Delhi    Shree Ram Paratha Wala   \n",
       "8679  466488             Navrangpura  Ahmedabad              Sassy Street   \n",
       "\n",
       "      Price  Avg ratings  Total ratings  \\\n",
       "0     300.0          4.4            100   \n",
       "1     300.0          4.1            100   \n",
       "2     650.0          4.4            100   \n",
       "3     250.0          3.9            500   \n",
       "4     350.0          4.0             50   \n",
       "...     ...          ...            ...   \n",
       "8675  500.0          2.9             80   \n",
       "8676  200.0          2.9             80   \n",
       "8677  150.0          2.9             80   \n",
       "8678  150.0          2.9             80   \n",
       "8679  250.0          2.9             80   \n",
       "\n",
       "                                              Food type       Address  \\\n",
       "0             Biryani,Chinese,North Indian,South Indian     5Th Block   \n",
       "1                                      Mughlai,Lucknowi     5Th Block   \n",
       "2                                               Chinese   Double Road   \n",
       "3                  North Indian,Punjabi,Tandoor,Chinese  80 Feet Road   \n",
       "4     Rajasthani,Gujarati,North Indian,Snacks,Desser...  80 Feet Road   \n",
       "...                                                 ...           ...   \n",
       "8675                                             Pizzas   Navrangpura   \n",
       "8676                                       South Indian        Rohini   \n",
       "8677                             Chinese,Snacks,Tandoor        Rohini   \n",
       "8678                         North Indian,Indian,Snacks        Rohini   \n",
       "8679                               Chaat,Snacks,Chinese   Navrangpura   \n",
       "\n",
       "      Delivery time  \n",
       "0                59  \n",
       "1                56  \n",
       "2                50  \n",
       "3                57  \n",
       "4                63  \n",
       "...             ...  \n",
       "8675             40  \n",
       "8676             28  \n",
       "8677             58  \n",
       "8678             28  \n",
       "8679             44  \n",
       "\n",
       "[8680 rows x 10 columns]"
      ]
     },
     "execution_count": 5,
     "metadata": {},
     "output_type": "execute_result"
    }
   ],
   "source": [
    "df=pd.read_csv(\"swiggy.csv\")\n",
    "df"
   ]
  },
  {
   "cell_type": "code",
   "execution_count": 6,
   "id": "83f12c8c",
   "metadata": {},
   "outputs": [
    {
     "name": "stdout",
     "output_type": "stream",
     "text": [
      "<class 'pandas.core.frame.DataFrame'>\n",
      "RangeIndex: 8680 entries, 0 to 8679\n",
      "Data columns (total 10 columns):\n",
      " #   Column         Non-Null Count  Dtype  \n",
      "---  ------         --------------  -----  \n",
      " 0   ID             8680 non-null   int64  \n",
      " 1   Area           8680 non-null   object \n",
      " 2   City           8680 non-null   object \n",
      " 3   Restaurant     8680 non-null   object \n",
      " 4   Price          8680 non-null   float64\n",
      " 5   Avg ratings    8680 non-null   float64\n",
      " 6   Total ratings  8680 non-null   int64  \n",
      " 7   Food type      8680 non-null   object \n",
      " 8   Address        8680 non-null   object \n",
      " 9   Delivery time  8680 non-null   int64  \n",
      "dtypes: float64(2), int64(3), object(5)\n",
      "memory usage: 678.3+ KB\n"
     ]
    }
   ],
   "source": [
    "df.info()"
   ]
  },
  {
   "cell_type": "markdown",
   "id": "a2aac8d0",
   "metadata": {},
   "source": [
    "No null values in any row or column"
   ]
  },
  {
   "cell_type": "markdown",
   "id": "e2138893",
   "metadata": {},
   "source": [
    "#### sorting index"
   ]
  },
  {
   "cell_type": "code",
   "execution_count": 10,
   "id": "6083b20e",
   "metadata": {},
   "outputs": [],
   "source": [
    "df.sort_index(inplace=True)"
   ]
  },
  {
   "cell_type": "code",
   "execution_count": 11,
   "id": "aa4b3b5c",
   "metadata": {},
   "outputs": [
    {
     "data": {
      "text/html": [
       "<div>\n",
       "<style scoped>\n",
       "    .dataframe tbody tr th:only-of-type {\n",
       "        vertical-align: middle;\n",
       "    }\n",
       "\n",
       "    .dataframe tbody tr th {\n",
       "        vertical-align: top;\n",
       "    }\n",
       "\n",
       "    .dataframe thead th {\n",
       "        text-align: right;\n",
       "    }\n",
       "</style>\n",
       "<table border=\"1\" class=\"dataframe\">\n",
       "  <thead>\n",
       "    <tr style=\"text-align: right;\">\n",
       "      <th></th>\n",
       "      <th>ID</th>\n",
       "      <th>Area</th>\n",
       "      <th>City</th>\n",
       "      <th>Restaurant</th>\n",
       "      <th>Price</th>\n",
       "      <th>Avg ratings</th>\n",
       "      <th>Total ratings</th>\n",
       "      <th>Food type</th>\n",
       "      <th>Address</th>\n",
       "      <th>Delivery time</th>\n",
       "    </tr>\n",
       "  </thead>\n",
       "  <tbody>\n",
       "    <tr>\n",
       "      <th>0</th>\n",
       "      <td>211</td>\n",
       "      <td>Koramangala</td>\n",
       "      <td>Bangalore</td>\n",
       "      <td>Tandoor Hut</td>\n",
       "      <td>300.0</td>\n",
       "      <td>4.4</td>\n",
       "      <td>100</td>\n",
       "      <td>Biryani,Chinese,North Indian,South Indian</td>\n",
       "      <td>5Th Block</td>\n",
       "      <td>59</td>\n",
       "    </tr>\n",
       "    <tr>\n",
       "      <th>1</th>\n",
       "      <td>221</td>\n",
       "      <td>Koramangala</td>\n",
       "      <td>Bangalore</td>\n",
       "      <td>Tunday Kababi</td>\n",
       "      <td>300.0</td>\n",
       "      <td>4.1</td>\n",
       "      <td>100</td>\n",
       "      <td>Mughlai,Lucknowi</td>\n",
       "      <td>5Th Block</td>\n",
       "      <td>56</td>\n",
       "    </tr>\n",
       "    <tr>\n",
       "      <th>2</th>\n",
       "      <td>246</td>\n",
       "      <td>Jogupalya</td>\n",
       "      <td>Bangalore</td>\n",
       "      <td>Kim Lee</td>\n",
       "      <td>650.0</td>\n",
       "      <td>4.4</td>\n",
       "      <td>100</td>\n",
       "      <td>Chinese</td>\n",
       "      <td>Double Road</td>\n",
       "      <td>50</td>\n",
       "    </tr>\n",
       "    <tr>\n",
       "      <th>3</th>\n",
       "      <td>248</td>\n",
       "      <td>Indiranagar</td>\n",
       "      <td>Bangalore</td>\n",
       "      <td>New Punjabi Hotel</td>\n",
       "      <td>250.0</td>\n",
       "      <td>3.9</td>\n",
       "      <td>500</td>\n",
       "      <td>North Indian,Punjabi,Tandoor,Chinese</td>\n",
       "      <td>80 Feet Road</td>\n",
       "      <td>57</td>\n",
       "    </tr>\n",
       "    <tr>\n",
       "      <th>4</th>\n",
       "      <td>249</td>\n",
       "      <td>Indiranagar</td>\n",
       "      <td>Bangalore</td>\n",
       "      <td>Nh8</td>\n",
       "      <td>350.0</td>\n",
       "      <td>4.0</td>\n",
       "      <td>50</td>\n",
       "      <td>Rajasthani,Gujarati,North Indian,Snacks,Desser...</td>\n",
       "      <td>80 Feet Road</td>\n",
       "      <td>63</td>\n",
       "    </tr>\n",
       "    <tr>\n",
       "      <th>...</th>\n",
       "      <td>...</td>\n",
       "      <td>...</td>\n",
       "      <td>...</td>\n",
       "      <td>...</td>\n",
       "      <td>...</td>\n",
       "      <td>...</td>\n",
       "      <td>...</td>\n",
       "      <td>...</td>\n",
       "      <td>...</td>\n",
       "      <td>...</td>\n",
       "    </tr>\n",
       "    <tr>\n",
       "      <th>8675</th>\n",
       "      <td>464626</td>\n",
       "      <td>Panjarapole Cross Road</td>\n",
       "      <td>Ahmedabad</td>\n",
       "      <td>Malt Pizza</td>\n",
       "      <td>500.0</td>\n",
       "      <td>2.9</td>\n",
       "      <td>80</td>\n",
       "      <td>Pizzas</td>\n",
       "      <td>Navrangpura</td>\n",
       "      <td>40</td>\n",
       "    </tr>\n",
       "    <tr>\n",
       "      <th>8676</th>\n",
       "      <td>465835</td>\n",
       "      <td>Rohini</td>\n",
       "      <td>Delhi</td>\n",
       "      <td>Jay Mata Ji Home Kitchen</td>\n",
       "      <td>200.0</td>\n",
       "      <td>2.9</td>\n",
       "      <td>80</td>\n",
       "      <td>South Indian</td>\n",
       "      <td>Rohini</td>\n",
       "      <td>28</td>\n",
       "    </tr>\n",
       "    <tr>\n",
       "      <th>8677</th>\n",
       "      <td>465872</td>\n",
       "      <td>Rohini</td>\n",
       "      <td>Delhi</td>\n",
       "      <td>Chinese Kitchen King</td>\n",
       "      <td>150.0</td>\n",
       "      <td>2.9</td>\n",
       "      <td>80</td>\n",
       "      <td>Chinese,Snacks,Tandoor</td>\n",
       "      <td>Rohini</td>\n",
       "      <td>58</td>\n",
       "    </tr>\n",
       "    <tr>\n",
       "      <th>8678</th>\n",
       "      <td>465990</td>\n",
       "      <td>Rohini</td>\n",
       "      <td>Delhi</td>\n",
       "      <td>Shree Ram Paratha Wala</td>\n",
       "      <td>150.0</td>\n",
       "      <td>2.9</td>\n",
       "      <td>80</td>\n",
       "      <td>North Indian,Indian,Snacks</td>\n",
       "      <td>Rohini</td>\n",
       "      <td>28</td>\n",
       "    </tr>\n",
       "    <tr>\n",
       "      <th>8679</th>\n",
       "      <td>466488</td>\n",
       "      <td>Navrangpura</td>\n",
       "      <td>Ahmedabad</td>\n",
       "      <td>Sassy Street</td>\n",
       "      <td>250.0</td>\n",
       "      <td>2.9</td>\n",
       "      <td>80</td>\n",
       "      <td>Chaat,Snacks,Chinese</td>\n",
       "      <td>Navrangpura</td>\n",
       "      <td>44</td>\n",
       "    </tr>\n",
       "  </tbody>\n",
       "</table>\n",
       "<p>8680 rows × 10 columns</p>\n",
       "</div>"
      ],
      "text/plain": [
       "          ID                    Area       City                Restaurant  \\\n",
       "0        211             Koramangala  Bangalore               Tandoor Hut   \n",
       "1        221             Koramangala  Bangalore             Tunday Kababi   \n",
       "2        246               Jogupalya  Bangalore                   Kim Lee   \n",
       "3        248             Indiranagar  Bangalore         New Punjabi Hotel   \n",
       "4        249             Indiranagar  Bangalore                       Nh8   \n",
       "...      ...                     ...        ...                       ...   \n",
       "8675  464626  Panjarapole Cross Road  Ahmedabad                Malt Pizza   \n",
       "8676  465835                  Rohini      Delhi  Jay Mata Ji Home Kitchen   \n",
       "8677  465872                  Rohini      Delhi      Chinese Kitchen King   \n",
       "8678  465990                  Rohini      Delhi    Shree Ram Paratha Wala   \n",
       "8679  466488             Navrangpura  Ahmedabad              Sassy Street   \n",
       "\n",
       "      Price  Avg ratings  Total ratings  \\\n",
       "0     300.0          4.4            100   \n",
       "1     300.0          4.1            100   \n",
       "2     650.0          4.4            100   \n",
       "3     250.0          3.9            500   \n",
       "4     350.0          4.0             50   \n",
       "...     ...          ...            ...   \n",
       "8675  500.0          2.9             80   \n",
       "8676  200.0          2.9             80   \n",
       "8677  150.0          2.9             80   \n",
       "8678  150.0          2.9             80   \n",
       "8679  250.0          2.9             80   \n",
       "\n",
       "                                              Food type       Address  \\\n",
       "0             Biryani,Chinese,North Indian,South Indian     5Th Block   \n",
       "1                                      Mughlai,Lucknowi     5Th Block   \n",
       "2                                               Chinese   Double Road   \n",
       "3                  North Indian,Punjabi,Tandoor,Chinese  80 Feet Road   \n",
       "4     Rajasthani,Gujarati,North Indian,Snacks,Desser...  80 Feet Road   \n",
       "...                                                 ...           ...   \n",
       "8675                                             Pizzas   Navrangpura   \n",
       "8676                                       South Indian        Rohini   \n",
       "8677                             Chinese,Snacks,Tandoor        Rohini   \n",
       "8678                         North Indian,Indian,Snacks        Rohini   \n",
       "8679                               Chaat,Snacks,Chinese   Navrangpura   \n",
       "\n",
       "      Delivery time  \n",
       "0                59  \n",
       "1                56  \n",
       "2                50  \n",
       "3                57  \n",
       "4                63  \n",
       "...             ...  \n",
       "8675             40  \n",
       "8676             28  \n",
       "8677             58  \n",
       "8678             28  \n",
       "8679             44  \n",
       "\n",
       "[8680 rows x 10 columns]"
      ]
     },
     "execution_count": 11,
     "metadata": {},
     "output_type": "execute_result"
    }
   ],
   "source": [
    "df"
   ]
  },
  {
   "cell_type": "code",
   "execution_count": 12,
   "id": "918e53ad",
   "metadata": {},
   "outputs": [
    {
     "data": {
      "text/html": [
       "<div>\n",
       "<style scoped>\n",
       "    .dataframe tbody tr th:only-of-type {\n",
       "        vertical-align: middle;\n",
       "    }\n",
       "\n",
       "    .dataframe tbody tr th {\n",
       "        vertical-align: top;\n",
       "    }\n",
       "\n",
       "    .dataframe thead th {\n",
       "        text-align: right;\n",
       "    }\n",
       "</style>\n",
       "<table border=\"1\" class=\"dataframe\">\n",
       "  <thead>\n",
       "    <tr style=\"text-align: right;\">\n",
       "      <th></th>\n",
       "      <th>ID</th>\n",
       "      <th>Price</th>\n",
       "      <th>Avg ratings</th>\n",
       "      <th>Total ratings</th>\n",
       "      <th>Delivery time</th>\n",
       "    </tr>\n",
       "  </thead>\n",
       "  <tbody>\n",
       "    <tr>\n",
       "      <th>count</th>\n",
       "      <td>8680.000000</td>\n",
       "      <td>8680.000000</td>\n",
       "      <td>8680.000000</td>\n",
       "      <td>8680.000000</td>\n",
       "      <td>8680.000000</td>\n",
       "    </tr>\n",
       "    <tr>\n",
       "      <th>mean</th>\n",
       "      <td>244812.071429</td>\n",
       "      <td>348.444470</td>\n",
       "      <td>3.655104</td>\n",
       "      <td>156.634793</td>\n",
       "      <td>53.967051</td>\n",
       "    </tr>\n",
       "    <tr>\n",
       "      <th>std</th>\n",
       "      <td>158671.617188</td>\n",
       "      <td>230.940074</td>\n",
       "      <td>0.647629</td>\n",
       "      <td>391.448014</td>\n",
       "      <td>14.292335</td>\n",
       "    </tr>\n",
       "    <tr>\n",
       "      <th>min</th>\n",
       "      <td>211.000000</td>\n",
       "      <td>0.000000</td>\n",
       "      <td>2.000000</td>\n",
       "      <td>20.000000</td>\n",
       "      <td>20.000000</td>\n",
       "    </tr>\n",
       "    <tr>\n",
       "      <th>25%</th>\n",
       "      <td>72664.000000</td>\n",
       "      <td>200.000000</td>\n",
       "      <td>2.900000</td>\n",
       "      <td>50.000000</td>\n",
       "      <td>44.000000</td>\n",
       "    </tr>\n",
       "    <tr>\n",
       "      <th>50%</th>\n",
       "      <td>283442.000000</td>\n",
       "      <td>300.000000</td>\n",
       "      <td>3.900000</td>\n",
       "      <td>80.000000</td>\n",
       "      <td>53.000000</td>\n",
       "    </tr>\n",
       "    <tr>\n",
       "      <th>75%</th>\n",
       "      <td>393425.250000</td>\n",
       "      <td>400.000000</td>\n",
       "      <td>4.200000</td>\n",
       "      <td>100.000000</td>\n",
       "      <td>64.000000</td>\n",
       "    </tr>\n",
       "    <tr>\n",
       "      <th>max</th>\n",
       "      <td>466928.000000</td>\n",
       "      <td>2500.000000</td>\n",
       "      <td>5.000000</td>\n",
       "      <td>10000.000000</td>\n",
       "      <td>109.000000</td>\n",
       "    </tr>\n",
       "  </tbody>\n",
       "</table>\n",
       "</div>"
      ],
      "text/plain": [
       "                  ID        Price  Avg ratings  Total ratings  Delivery time\n",
       "count    8680.000000  8680.000000  8680.000000    8680.000000    8680.000000\n",
       "mean   244812.071429   348.444470     3.655104     156.634793      53.967051\n",
       "std    158671.617188   230.940074     0.647629     391.448014      14.292335\n",
       "min       211.000000     0.000000     2.000000      20.000000      20.000000\n",
       "25%     72664.000000   200.000000     2.900000      50.000000      44.000000\n",
       "50%    283442.000000   300.000000     3.900000      80.000000      53.000000\n",
       "75%    393425.250000   400.000000     4.200000     100.000000      64.000000\n",
       "max    466928.000000  2500.000000     5.000000   10000.000000     109.000000"
      ]
     },
     "execution_count": 12,
     "metadata": {},
     "output_type": "execute_result"
    }
   ],
   "source": [
    "df.describe()"
   ]
  },
  {
   "cell_type": "code",
   "execution_count": 13,
   "id": "eadd9998",
   "metadata": {},
   "outputs": [
    {
     "data": {
      "text/plain": [
       "Index(['ID', 'Area', 'City', 'Restaurant', 'Price', 'Avg ratings',\n",
       "       'Total ratings', 'Food type', 'Address', 'Delivery time'],\n",
       "      dtype='object')"
      ]
     },
     "execution_count": 13,
     "metadata": {},
     "output_type": "execute_result"
    }
   ],
   "source": [
    "df.columns"
   ]
  },
  {
   "cell_type": "code",
   "execution_count": 14,
   "id": "5f7ce1b1",
   "metadata": {},
   "outputs": [
    {
     "data": {
      "text/plain": [
       "ID               0\n",
       "Area             0\n",
       "City             0\n",
       "Restaurant       0\n",
       "Price            0\n",
       "Avg ratings      0\n",
       "Total ratings    0\n",
       "Food type        0\n",
       "Address          0\n",
       "Delivery time    0\n",
       "dtype: int64"
      ]
     },
     "execution_count": 14,
     "metadata": {},
     "output_type": "execute_result"
    }
   ],
   "source": [
    "df.isnull().sum()"
   ]
  },
  {
   "cell_type": "code",
   "execution_count": 15,
   "id": "2caaf92f",
   "metadata": {},
   "outputs": [
    {
     "data": {
      "text/plain": [
       "0"
      ]
     },
     "execution_count": 15,
     "metadata": {},
     "output_type": "execute_result"
    }
   ],
   "source": [
    "df.duplicated().sum()"
   ]
  },
  {
   "cell_type": "code",
   "execution_count": 17,
   "id": "145735b2",
   "metadata": {},
   "outputs": [
    {
     "data": {
      "text/plain": [
       "(8680, 10)"
      ]
     },
     "execution_count": 17,
     "metadata": {},
     "output_type": "execute_result"
    }
   ],
   "source": [
    "df.shape"
   ]
  },
  {
   "cell_type": "code",
   "execution_count": 18,
   "id": "25286836",
   "metadata": {},
   "outputs": [
    {
     "data": {
      "text/plain": [
       "86800"
      ]
     },
     "execution_count": 18,
     "metadata": {},
     "output_type": "execute_result"
    }
   ],
   "source": [
    "df.size"
   ]
  },
  {
   "cell_type": "code",
   "execution_count": 22,
   "id": "2467e41b",
   "metadata": {},
   "outputs": [
    {
     "data": {
      "text/plain": [
       "ID               8680\n",
       "Area              833\n",
       "City                9\n",
       "Restaurant       7865\n",
       "Price             120\n",
       "Avg ratings        30\n",
       "Total ratings       8\n",
       "Food type        3734\n",
       "Address          2339\n",
       "Delivery time      81\n",
       "dtype: int64"
      ]
     },
     "execution_count": 22,
     "metadata": {},
     "output_type": "execute_result"
    }
   ],
   "source": [
    "df.nunique()"
   ]
  },
  {
   "cell_type": "code",
   "execution_count": 23,
   "id": "efafe7ac",
   "metadata": {},
   "outputs": [
    {
     "data": {
      "text/plain": [
       "ID                 int64\n",
       "Area              object\n",
       "City              object\n",
       "Restaurant        object\n",
       "Price            float64\n",
       "Avg ratings      float64\n",
       "Total ratings      int64\n",
       "Food type         object\n",
       "Address           object\n",
       "Delivery time      int64\n",
       "dtype: object"
      ]
     },
     "execution_count": 23,
     "metadata": {},
     "output_type": "execute_result"
    }
   ],
   "source": [
    "df.dtypes"
   ]
  },
  {
   "cell_type": "code",
   "execution_count": 25,
   "id": "814f752c",
   "metadata": {},
   "outputs": [
    {
     "data": {
      "text/plain": [
       "Restaurant\n",
       "La Pino'Z Pizza           13\n",
       "Nic Natural Ice Creams    10\n",
       "Baskin Robbins            10\n",
       "Subway                    10\n",
       "Kfc                        9\n",
       "                          ..\n",
       "Home Factory               1\n",
       "Meals And Bowls            1\n",
       "Waffle Dreams              1\n",
       "Pratik Restaurant          1\n",
       "Sassy Street               1\n",
       "Name: count, Length: 7865, dtype: int64"
      ]
     },
     "execution_count": 25,
     "metadata": {},
     "output_type": "execute_result"
    }
   ],
   "source": [
    "df['Restaurant'].value_counts()"
   ]
  },
  {
   "cell_type": "markdown",
   "id": "8c164ae8",
   "metadata": {},
   "source": [
    "**Most customers buy food in La Pino'Z Pizza Restuarant**"
   ]
  },
  {
   "cell_type": "code",
   "execution_count": 27,
   "id": "4f3313bb",
   "metadata": {},
   "outputs": [
    {
     "data": {
      "text/plain": [
       "7865"
      ]
     },
     "execution_count": 27,
     "metadata": {},
     "output_type": "execute_result"
    }
   ],
   "source": [
    "df['Restaurant'].nunique()"
   ]
  },
  {
   "cell_type": "code",
   "execution_count": 29,
   "id": "4974e5af",
   "metadata": {},
   "outputs": [],
   "source": [
    "lapino = df[(df['Restaurant']==\"La Pino'Z Pizza\")]"
   ]
  },
  {
   "cell_type": "code",
   "execution_count": 32,
   "id": "adf7d9ac",
   "metadata": {},
   "outputs": [
    {
     "data": {
      "text/plain": [
       "4.12"
      ]
     },
     "execution_count": 32,
     "metadata": {},
     "output_type": "execute_result"
    }
   ],
   "source": [
    "np.around((lapino['Avg ratings'].mean()),2)"
   ]
  },
  {
   "cell_type": "markdown",
   "id": "44658f7d",
   "metadata": {},
   "source": [
    "Average Rating to La Pino'Z Pizza Restuarant is 4.12"
   ]
  },
  {
   "cell_type": "code",
   "execution_count": 37,
   "id": "72733d58",
   "metadata": {},
   "outputs": [
    {
     "data": {
      "text/html": [
       "<div>\n",
       "<style scoped>\n",
       "    .dataframe tbody tr th:only-of-type {\n",
       "        vertical-align: middle;\n",
       "    }\n",
       "\n",
       "    .dataframe tbody tr th {\n",
       "        vertical-align: top;\n",
       "    }\n",
       "\n",
       "    .dataframe thead th {\n",
       "        text-align: right;\n",
       "    }\n",
       "</style>\n",
       "<table border=\"1\" class=\"dataframe\">\n",
       "  <thead>\n",
       "    <tr style=\"text-align: right;\">\n",
       "      <th></th>\n",
       "      <th>ID</th>\n",
       "      <th>Area</th>\n",
       "      <th>City</th>\n",
       "      <th>Restaurant</th>\n",
       "      <th>Price</th>\n",
       "      <th>Avg ratings</th>\n",
       "      <th>Total ratings</th>\n",
       "      <th>Food type</th>\n",
       "      <th>Address</th>\n",
       "      <th>Delivery time</th>\n",
       "    </tr>\n",
       "  </thead>\n",
       "  <tbody>\n",
       "    <tr>\n",
       "      <th>2624</th>\n",
       "      <td>250683</td>\n",
       "      <td>Himayatnagar</td>\n",
       "      <td>Hyderabad</td>\n",
       "      <td>Zomoz-The Momo Company</td>\n",
       "      <td>150.0</td>\n",
       "      <td>4.3</td>\n",
       "      <td>500</td>\n",
       "      <td>Fast Food,Tibetan,Chinese</td>\n",
       "      <td>Himayath Nagar</td>\n",
       "      <td>31</td>\n",
       "    </tr>\n",
       "    <tr>\n",
       "      <th>255</th>\n",
       "      <td>10186</td>\n",
       "      <td>Kilpauk</td>\n",
       "      <td>Chennai</td>\n",
       "      <td>Wangs Kitchen</td>\n",
       "      <td>350.0</td>\n",
       "      <td>4.1</td>\n",
       "      <td>100</td>\n",
       "      <td>Chinese,Fast Food,Asian</td>\n",
       "      <td>Kellys</td>\n",
       "      <td>46</td>\n",
       "    </tr>\n",
       "    <tr>\n",
       "      <th>2664</th>\n",
       "      <td>254886</td>\n",
       "      <td>Pitam Pura</td>\n",
       "      <td>Delhi</td>\n",
       "      <td>Paratha Experiment</td>\n",
       "      <td>200.0</td>\n",
       "      <td>3.9</td>\n",
       "      <td>20</td>\n",
       "      <td>North Indian,Punjabi,Home Food,Indian,Snacks,C...</td>\n",
       "      <td>Rohini</td>\n",
       "      <td>39</td>\n",
       "    </tr>\n",
       "    <tr>\n",
       "      <th>3226</th>\n",
       "      <td>317646</td>\n",
       "      <td>Shivaji Nagar</td>\n",
       "      <td>Bangalore</td>\n",
       "      <td>U.S Pizza</td>\n",
       "      <td>400.0</td>\n",
       "      <td>2.9</td>\n",
       "      <td>80</td>\n",
       "      <td>Pizzas,Fast Food,Beverages,Salads,Pastas,Desserts</td>\n",
       "      <td>Central Bangalore</td>\n",
       "      <td>44</td>\n",
       "    </tr>\n",
       "    <tr>\n",
       "      <th>2282</th>\n",
       "      <td>203481</td>\n",
       "      <td>Andheri East</td>\n",
       "      <td>Mumbai</td>\n",
       "      <td>Bhayankar Burgers</td>\n",
       "      <td>400.0</td>\n",
       "      <td>4.0</td>\n",
       "      <td>100</td>\n",
       "      <td>American</td>\n",
       "      <td>Marol Industrial Estate</td>\n",
       "      <td>58</td>\n",
       "    </tr>\n",
       "  </tbody>\n",
       "</table>\n",
       "</div>"
      ],
      "text/plain": [
       "          ID           Area       City              Restaurant  Price  \\\n",
       "2624  250683   Himayatnagar  Hyderabad  Zomoz-The Momo Company  150.0   \n",
       "255    10186        Kilpauk    Chennai           Wangs Kitchen  350.0   \n",
       "2664  254886     Pitam Pura      Delhi      Paratha Experiment  200.0   \n",
       "3226  317646  Shivaji Nagar  Bangalore               U.S Pizza  400.0   \n",
       "2282  203481   Andheri East     Mumbai       Bhayankar Burgers  400.0   \n",
       "\n",
       "      Avg ratings  Total ratings  \\\n",
       "2624          4.3            500   \n",
       "255           4.1            100   \n",
       "2664          3.9             20   \n",
       "3226          2.9             80   \n",
       "2282          4.0            100   \n",
       "\n",
       "                                              Food type  \\\n",
       "2624                          Fast Food,Tibetan,Chinese   \n",
       "255                             Chinese,Fast Food,Asian   \n",
       "2664  North Indian,Punjabi,Home Food,Indian,Snacks,C...   \n",
       "3226  Pizzas,Fast Food,Beverages,Salads,Pastas,Desserts   \n",
       "2282                                           American   \n",
       "\n",
       "                      Address  Delivery time  \n",
       "2624           Himayath Nagar             31  \n",
       "255                    Kellys             46  \n",
       "2664                   Rohini             39  \n",
       "3226        Central Bangalore             44  \n",
       "2282  Marol Industrial Estate             58  "
      ]
     },
     "execution_count": 37,
     "metadata": {},
     "output_type": "execute_result"
    }
   ],
   "source": [
    "df.sample(5)"
   ]
  },
  {
   "cell_type": "code",
   "execution_count": 38,
   "id": "ed865d96",
   "metadata": {},
   "outputs": [
    {
     "data": {
      "text/plain": [
       "0.0"
      ]
     },
     "execution_count": 38,
     "metadata": {},
     "output_type": "execute_result"
    }
   ],
   "source": [
    "df['Price'].min()"
   ]
  },
  {
   "cell_type": "code",
   "execution_count": 43,
   "id": "946ab7f9",
   "metadata": {},
   "outputs": [
    {
     "data": {
      "text/html": [
       "<div>\n",
       "<style scoped>\n",
       "    .dataframe tbody tr th:only-of-type {\n",
       "        vertical-align: middle;\n",
       "    }\n",
       "\n",
       "    .dataframe tbody tr th {\n",
       "        vertical-align: top;\n",
       "    }\n",
       "\n",
       "    .dataframe thead th {\n",
       "        text-align: right;\n",
       "    }\n",
       "</style>\n",
       "<table border=\"1\" class=\"dataframe\">\n",
       "  <thead>\n",
       "    <tr style=\"text-align: right;\">\n",
       "      <th></th>\n",
       "      <th>ID</th>\n",
       "      <th>Area</th>\n",
       "      <th>City</th>\n",
       "      <th>Restaurant</th>\n",
       "      <th>Price</th>\n",
       "      <th>Avg ratings</th>\n",
       "      <th>Total ratings</th>\n",
       "      <th>Food type</th>\n",
       "      <th>Address</th>\n",
       "      <th>Delivery time</th>\n",
       "    </tr>\n",
       "  </thead>\n",
       "  <tbody>\n",
       "    <tr>\n",
       "      <th>1393</th>\n",
       "      <td>73662</td>\n",
       "      <td>Annanagar East</td>\n",
       "      <td>Chennai</td>\n",
       "      <td>Mozza</td>\n",
       "      <td>0.0</td>\n",
       "      <td>2.9</td>\n",
       "      <td>80</td>\n",
       "      <td>Continental,Chinese,Italian,Mexican</td>\n",
       "      <td>Annangar East</td>\n",
       "      <td>64</td>\n",
       "    </tr>\n",
       "    <tr>\n",
       "      <th>2830</th>\n",
       "      <td>283144</td>\n",
       "      <td>Athwa</td>\n",
       "      <td>Surat</td>\n",
       "      <td>Monginis</td>\n",
       "      <td>0.0</td>\n",
       "      <td>2.9</td>\n",
       "      <td>80</td>\n",
       "      <td>Desserts</td>\n",
       "      <td>Udhyognagar</td>\n",
       "      <td>46</td>\n",
       "    </tr>\n",
       "    <tr>\n",
       "      <th>6995</th>\n",
       "      <td>55365</td>\n",
       "      <td>Isanpur</td>\n",
       "      <td>Ahmedabad</td>\n",
       "      <td>Maruti Dhosa Hub</td>\n",
       "      <td>0.0</td>\n",
       "      <td>4.1</td>\n",
       "      <td>20</td>\n",
       "      <td>South Indian</td>\n",
       "      <td>Vishal Nagar</td>\n",
       "      <td>49</td>\n",
       "    </tr>\n",
       "    <tr>\n",
       "      <th>6999</th>\n",
       "      <td>55710</td>\n",
       "      <td>Paldi</td>\n",
       "      <td>Ahmedabad</td>\n",
       "      <td>Ladli Fast Food</td>\n",
       "      <td>0.0</td>\n",
       "      <td>3.5</td>\n",
       "      <td>20</td>\n",
       "      <td>Fast Food,Italian</td>\n",
       "      <td>Paldi</td>\n",
       "      <td>34</td>\n",
       "    </tr>\n",
       "    <tr>\n",
       "      <th>7218</th>\n",
       "      <td>77391</td>\n",
       "      <td>Ghodasar</td>\n",
       "      <td>Ahmedabad</td>\n",
       "      <td>Comfy Restaurant</td>\n",
       "      <td>0.0</td>\n",
       "      <td>4.0</td>\n",
       "      <td>100</td>\n",
       "      <td>Indian,Chinese</td>\n",
       "      <td>Isanpur</td>\n",
       "      <td>48</td>\n",
       "    </tr>\n",
       "  </tbody>\n",
       "</table>\n",
       "</div>"
      ],
      "text/plain": [
       "          ID            Area       City        Restaurant  Price  Avg ratings  \\\n",
       "1393   73662  Annanagar East    Chennai             Mozza    0.0          2.9   \n",
       "2830  283144           Athwa      Surat          Monginis    0.0          2.9   \n",
       "6995   55365         Isanpur  Ahmedabad  Maruti Dhosa Hub    0.0          4.1   \n",
       "6999   55710           Paldi  Ahmedabad   Ladli Fast Food    0.0          3.5   \n",
       "7218   77391        Ghodasar  Ahmedabad  Comfy Restaurant    0.0          4.0   \n",
       "\n",
       "      Total ratings                            Food type        Address  \\\n",
       "1393             80  Continental,Chinese,Italian,Mexican  Annangar East   \n",
       "2830             80                             Desserts    Udhyognagar   \n",
       "6995             20                         South Indian   Vishal Nagar   \n",
       "6999             20                    Fast Food,Italian          Paldi   \n",
       "7218            100                       Indian,Chinese        Isanpur   \n",
       "\n",
       "      Delivery time  \n",
       "1393             64  \n",
       "2830             46  \n",
       "6995             49  \n",
       "6999             34  \n",
       "7218             48  "
      ]
     },
     "execution_count": 43,
     "metadata": {},
     "output_type": "execute_result"
    }
   ],
   "source": [
    "df[(df['Price']==0)]"
   ]
  },
  {
   "cell_type": "markdown",
   "id": "24155db1",
   "metadata": {},
   "source": [
    "There are 5 restuarants which gives food for 0 price (There is a chance that it is missing value)"
   ]
  },
  {
   "cell_type": "code",
   "execution_count": 61,
   "id": "4285bef7",
   "metadata": {},
   "outputs": [
    {
     "data": {
      "text/plain": [
       "2500.0"
      ]
     },
     "execution_count": 61,
     "metadata": {},
     "output_type": "execute_result"
    }
   ],
   "source": [
    "df['Price'].max()"
   ]
  },
  {
   "cell_type": "code",
   "execution_count": 62,
   "id": "22bbbee8",
   "metadata": {},
   "outputs": [
    {
     "data": {
      "text/html": [
       "<div>\n",
       "<style scoped>\n",
       "    .dataframe tbody tr th:only-of-type {\n",
       "        vertical-align: middle;\n",
       "    }\n",
       "\n",
       "    .dataframe tbody tr th {\n",
       "        vertical-align: top;\n",
       "    }\n",
       "\n",
       "    .dataframe thead th {\n",
       "        text-align: right;\n",
       "    }\n",
       "</style>\n",
       "<table border=\"1\" class=\"dataframe\">\n",
       "  <thead>\n",
       "    <tr style=\"text-align: right;\">\n",
       "      <th></th>\n",
       "      <th>ID</th>\n",
       "      <th>Area</th>\n",
       "      <th>City</th>\n",
       "      <th>Restaurant</th>\n",
       "      <th>Price</th>\n",
       "      <th>Avg ratings</th>\n",
       "      <th>Total ratings</th>\n",
       "      <th>Food type</th>\n",
       "      <th>Address</th>\n",
       "      <th>Delivery time</th>\n",
       "    </tr>\n",
       "  </thead>\n",
       "  <tbody>\n",
       "    <tr>\n",
       "      <th>2934</th>\n",
       "      <td>294499</td>\n",
       "      <td>Vasanth Nagar</td>\n",
       "      <td>Bangalore</td>\n",
       "      <td>Itc Windsor - Gourmet Couch</td>\n",
       "      <td>2500.0</td>\n",
       "      <td>4.5</td>\n",
       "      <td>20</td>\n",
       "      <td>North Indian,Mughlai,Biryani,Grill,Seafood,Keb...</td>\n",
       "      <td>Malleshwaram</td>\n",
       "      <td>55</td>\n",
       "    </tr>\n",
       "    <tr>\n",
       "      <th>3079</th>\n",
       "      <td>306434</td>\n",
       "      <td>Mylapore</td>\n",
       "      <td>Chennai</td>\n",
       "      <td>Malgudi - The Savera Hotel</td>\n",
       "      <td>2500.0</td>\n",
       "      <td>4.1</td>\n",
       "      <td>50</td>\n",
       "      <td>North Indian,South Indian</td>\n",
       "      <td>Mylapore</td>\n",
       "      <td>62</td>\n",
       "    </tr>\n",
       "    <tr>\n",
       "      <th>4718</th>\n",
       "      <td>394904</td>\n",
       "      <td>Scruz Bandra East</td>\n",
       "      <td>Mumbai</td>\n",
       "      <td>Origami Japanese &amp; Korean Restaurant</td>\n",
       "      <td>2500.0</td>\n",
       "      <td>4.4</td>\n",
       "      <td>20</td>\n",
       "      <td>Japanese,Korean,Barbecue</td>\n",
       "      <td>Bandra Kurla Complex</td>\n",
       "      <td>48</td>\n",
       "    </tr>\n",
       "  </tbody>\n",
       "</table>\n",
       "</div>"
      ],
      "text/plain": [
       "          ID               Area       City  \\\n",
       "2934  294499      Vasanth Nagar  Bangalore   \n",
       "3079  306434           Mylapore    Chennai   \n",
       "4718  394904  Scruz Bandra East     Mumbai   \n",
       "\n",
       "                                Restaurant   Price  Avg ratings  \\\n",
       "2934           Itc Windsor - Gourmet Couch  2500.0          4.5   \n",
       "3079            Malgudi - The Savera Hotel  2500.0          4.1   \n",
       "4718  Origami Japanese & Korean Restaurant  2500.0          4.4   \n",
       "\n",
       "      Total ratings                                          Food type  \\\n",
       "2934             20  North Indian,Mughlai,Biryani,Grill,Seafood,Keb...   \n",
       "3079             50                          North Indian,South Indian   \n",
       "4718             20                           Japanese,Korean,Barbecue   \n",
       "\n",
       "                   Address  Delivery time  \n",
       "2934          Malleshwaram             55  \n",
       "3079              Mylapore             62  \n",
       "4718  Bandra Kurla Complex             48  "
      ]
     },
     "execution_count": 62,
     "metadata": {},
     "output_type": "execute_result"
    }
   ],
   "source": [
    "df[(df['Price']==2500)]"
   ]
  },
  {
   "cell_type": "markdown",
   "id": "bd2b8eec",
   "metadata": {},
   "source": [
    "Most high priced food is 2500"
   ]
  },
  {
   "cell_type": "code",
   "execution_count": 64,
   "id": "6d0e42bd",
   "metadata": {},
   "outputs": [
    {
     "data": {
      "text/plain": [
       "246"
      ]
     },
     "execution_count": 64,
     "metadata": {},
     "output_type": "execute_result"
    }
   ],
   "source": [
    "df[(df['Food type']=='North Indian')].value_counts().sum()"
   ]
  },
  {
   "cell_type": "markdown",
   "id": "9126417c",
   "metadata": {},
   "source": [
    "There are Restuarants which serve north indian food which has 246 restuarants"
   ]
  },
  {
   "cell_type": "code",
   "execution_count": 81,
   "id": "93e3d504",
   "metadata": {},
   "outputs": [],
   "source": [
    "north_indian=df[df['Food type']=='North Indian']"
   ]
  },
  {
   "cell_type": "code",
   "execution_count": 82,
   "id": "cf4d208f",
   "metadata": {},
   "outputs": [
    {
     "data": {
      "text/plain": [
       "City\n",
       "Delhi        47\n",
       "Pune         40\n",
       "Ahmedabad    30\n",
       "Mumbai       29\n",
       "Bangalore    25\n",
       "Kolkata      23\n",
       "Surat        18\n",
       "Hyderabad    18\n",
       "Chennai      16\n",
       "Name: count, dtype: int64"
      ]
     },
     "execution_count": 82,
     "metadata": {},
     "output_type": "execute_result"
    }
   ],
   "source": [
    "north_indian[\"City\"].value_counts()"
   ]
  },
  {
   "cell_type": "markdown",
   "id": "b65c82ba",
   "metadata": {},
   "source": [
    "**Delhi has the most North Indian Food Resturants in India**"
   ]
  },
  {
   "cell_type": "code",
   "execution_count": 59,
   "id": "cf5bcf31",
   "metadata": {},
   "outputs": [
    {
     "data": {
      "text/plain": [
       "Price\n",
       "300.0    1776\n",
       "200.0    1774\n",
       "250.0     968\n",
       "400.0     838\n",
       "500.0     605\n",
       "         ... \n",
       "196.0       1\n",
       "355.0       1\n",
       "398.0       1\n",
       "620.0       1\n",
       "5.0         1\n",
       "Name: count, Length: 120, dtype: int64"
      ]
     },
     "execution_count": 59,
     "metadata": {},
     "output_type": "execute_result"
    }
   ],
   "source": [
    "df['Price'].value_counts()"
   ]
  },
  {
   "cell_type": "code",
   "execution_count": 60,
   "id": "dfb357e3",
   "metadata": {},
   "outputs": [
    {
     "data": {
      "text/html": [
       "<div>\n",
       "<style scoped>\n",
       "    .dataframe tbody tr th:only-of-type {\n",
       "        vertical-align: middle;\n",
       "    }\n",
       "\n",
       "    .dataframe tbody tr th {\n",
       "        vertical-align: top;\n",
       "    }\n",
       "\n",
       "    .dataframe thead th {\n",
       "        text-align: right;\n",
       "    }\n",
       "</style>\n",
       "<table border=\"1\" class=\"dataframe\">\n",
       "  <thead>\n",
       "    <tr style=\"text-align: right;\">\n",
       "      <th></th>\n",
       "      <th>ID</th>\n",
       "      <th>Area</th>\n",
       "      <th>City</th>\n",
       "      <th>Restaurant</th>\n",
       "      <th>Price</th>\n",
       "      <th>Avg ratings</th>\n",
       "      <th>Total ratings</th>\n",
       "      <th>Food type</th>\n",
       "      <th>Address</th>\n",
       "      <th>Delivery time</th>\n",
       "    </tr>\n",
       "  </thead>\n",
       "  <tbody>\n",
       "    <tr>\n",
       "      <th>0</th>\n",
       "      <td>211</td>\n",
       "      <td>Koramangala</td>\n",
       "      <td>Bangalore</td>\n",
       "      <td>Tandoor Hut</td>\n",
       "      <td>300.0</td>\n",
       "      <td>4.4</td>\n",
       "      <td>100</td>\n",
       "      <td>Biryani,Chinese,North Indian,South Indian</td>\n",
       "      <td>5Th Block</td>\n",
       "      <td>59</td>\n",
       "    </tr>\n",
       "    <tr>\n",
       "      <th>1</th>\n",
       "      <td>221</td>\n",
       "      <td>Koramangala</td>\n",
       "      <td>Bangalore</td>\n",
       "      <td>Tunday Kababi</td>\n",
       "      <td>300.0</td>\n",
       "      <td>4.1</td>\n",
       "      <td>100</td>\n",
       "      <td>Mughlai,Lucknowi</td>\n",
       "      <td>5Th Block</td>\n",
       "      <td>56</td>\n",
       "    </tr>\n",
       "    <tr>\n",
       "      <th>9</th>\n",
       "      <td>308</td>\n",
       "      <td>Koramangala</td>\n",
       "      <td>Bangalore</td>\n",
       "      <td>Bangaliana</td>\n",
       "      <td>300.0</td>\n",
       "      <td>4.0</td>\n",
       "      <td>500</td>\n",
       "      <td>Bengali</td>\n",
       "      <td>7Th Block</td>\n",
       "      <td>57</td>\n",
       "    </tr>\n",
       "    <tr>\n",
       "      <th>16</th>\n",
       "      <td>608</td>\n",
       "      <td>Domlur</td>\n",
       "      <td>Bangalore</td>\n",
       "      <td>Kerala Pavilion</td>\n",
       "      <td>300.0</td>\n",
       "      <td>4.1</td>\n",
       "      <td>100</td>\n",
       "      <td>Kerala,Seafood</td>\n",
       "      <td>Domlur Layout</td>\n",
       "      <td>55</td>\n",
       "    </tr>\n",
       "    <tr>\n",
       "      <th>26</th>\n",
       "      <td>1617</td>\n",
       "      <td>Powai</td>\n",
       "      <td>Mumbai</td>\n",
       "      <td>Kosho</td>\n",
       "      <td>300.0</td>\n",
       "      <td>4.2</td>\n",
       "      <td>100</td>\n",
       "      <td>Mughlai,North Indian,Chinese,Seafood,Italian</td>\n",
       "      <td>Chandivali</td>\n",
       "      <td>56</td>\n",
       "    </tr>\n",
       "    <tr>\n",
       "      <th>...</th>\n",
       "      <td>...</td>\n",
       "      <td>...</td>\n",
       "      <td>...</td>\n",
       "      <td>...</td>\n",
       "      <td>...</td>\n",
       "      <td>...</td>\n",
       "      <td>...</td>\n",
       "      <td>...</td>\n",
       "      <td>...</td>\n",
       "      <td>...</td>\n",
       "    </tr>\n",
       "    <tr>\n",
       "      <th>8623</th>\n",
       "      <td>454889</td>\n",
       "      <td>Vijayanagar</td>\n",
       "      <td>Bangalore</td>\n",
       "      <td>Suvarna Veg Restaurant</td>\n",
       "      <td>300.0</td>\n",
       "      <td>2.9</td>\n",
       "      <td>80</td>\n",
       "      <td>Indian,North Indian,Beverages</td>\n",
       "      <td>Vijayanagar</td>\n",
       "      <td>64</td>\n",
       "    </tr>\n",
       "    <tr>\n",
       "      <th>8651</th>\n",
       "      <td>458505</td>\n",
       "      <td>Naranpura</td>\n",
       "      <td>Ahmedabad</td>\n",
       "      <td>Lalu'S Special Stuffed Paratha</td>\n",
       "      <td>300.0</td>\n",
       "      <td>2.9</td>\n",
       "      <td>80</td>\n",
       "      <td>North Indian</td>\n",
       "      <td>Naranpura</td>\n",
       "      <td>49</td>\n",
       "    </tr>\n",
       "    <tr>\n",
       "      <th>8665</th>\n",
       "      <td>461833</td>\n",
       "      <td>Bibwewadi</td>\n",
       "      <td>Pune</td>\n",
       "      <td>Krishna Pure Veg</td>\n",
       "      <td>300.0</td>\n",
       "      <td>2.9</td>\n",
       "      <td>80</td>\n",
       "      <td>Maharashtrian,Punjabi,Chinese,South Indian</td>\n",
       "      <td>Dhankawadi</td>\n",
       "      <td>51</td>\n",
       "    </tr>\n",
       "    <tr>\n",
       "      <th>8666</th>\n",
       "      <td>461866</td>\n",
       "      <td>Laldarwaja</td>\n",
       "      <td>Ahmedabad</td>\n",
       "      <td>Jay Arbuda Food Point</td>\n",
       "      <td>300.0</td>\n",
       "      <td>2.9</td>\n",
       "      <td>80</td>\n",
       "      <td>Pizzas,Street Food,Continental,Pastas,Snacks</td>\n",
       "      <td>Laldarwaja</td>\n",
       "      <td>45</td>\n",
       "    </tr>\n",
       "    <tr>\n",
       "      <th>8672</th>\n",
       "      <td>464194</td>\n",
       "      <td>Ghatkopar Vikhroli</td>\n",
       "      <td>Mumbai</td>\n",
       "      <td>Tj'S Kitchen</td>\n",
       "      <td>300.0</td>\n",
       "      <td>2.9</td>\n",
       "      <td>80</td>\n",
       "      <td>South Indian,Chinese,Snacks</td>\n",
       "      <td>Ghatkopar Vikhroli</td>\n",
       "      <td>48</td>\n",
       "    </tr>\n",
       "  </tbody>\n",
       "</table>\n",
       "<p>1776 rows × 10 columns</p>\n",
       "</div>"
      ],
      "text/plain": [
       "          ID                Area       City                      Restaurant  \\\n",
       "0        211         Koramangala  Bangalore                     Tandoor Hut   \n",
       "1        221         Koramangala  Bangalore                   Tunday Kababi   \n",
       "9        308         Koramangala  Bangalore                      Bangaliana   \n",
       "16       608              Domlur  Bangalore                 Kerala Pavilion   \n",
       "26      1617               Powai     Mumbai                           Kosho   \n",
       "...      ...                 ...        ...                             ...   \n",
       "8623  454889         Vijayanagar  Bangalore          Suvarna Veg Restaurant   \n",
       "8651  458505           Naranpura  Ahmedabad  Lalu'S Special Stuffed Paratha   \n",
       "8665  461833           Bibwewadi       Pune                Krishna Pure Veg   \n",
       "8666  461866          Laldarwaja  Ahmedabad           Jay Arbuda Food Point   \n",
       "8672  464194  Ghatkopar Vikhroli     Mumbai                    Tj'S Kitchen   \n",
       "\n",
       "      Price  Avg ratings  Total ratings  \\\n",
       "0     300.0          4.4            100   \n",
       "1     300.0          4.1            100   \n",
       "9     300.0          4.0            500   \n",
       "16    300.0          4.1            100   \n",
       "26    300.0          4.2            100   \n",
       "...     ...          ...            ...   \n",
       "8623  300.0          2.9             80   \n",
       "8651  300.0          2.9             80   \n",
       "8665  300.0          2.9             80   \n",
       "8666  300.0          2.9             80   \n",
       "8672  300.0          2.9             80   \n",
       "\n",
       "                                         Food type             Address  \\\n",
       "0        Biryani,Chinese,North Indian,South Indian           5Th Block   \n",
       "1                                 Mughlai,Lucknowi           5Th Block   \n",
       "9                                          Bengali           7Th Block   \n",
       "16                                  Kerala,Seafood       Domlur Layout   \n",
       "26    Mughlai,North Indian,Chinese,Seafood,Italian          Chandivali   \n",
       "...                                            ...                 ...   \n",
       "8623                 Indian,North Indian,Beverages         Vijayanagar   \n",
       "8651                                  North Indian           Naranpura   \n",
       "8665    Maharashtrian,Punjabi,Chinese,South Indian          Dhankawadi   \n",
       "8666  Pizzas,Street Food,Continental,Pastas,Snacks          Laldarwaja   \n",
       "8672                   South Indian,Chinese,Snacks  Ghatkopar Vikhroli   \n",
       "\n",
       "      Delivery time  \n",
       "0                59  \n",
       "1                56  \n",
       "9                57  \n",
       "16               55  \n",
       "26               56  \n",
       "...             ...  \n",
       "8623             64  \n",
       "8651             49  \n",
       "8665             51  \n",
       "8666             45  \n",
       "8672             48  \n",
       "\n",
       "[1776 rows x 10 columns]"
      ]
     },
     "execution_count": 60,
     "metadata": {},
     "output_type": "execute_result"
    }
   ],
   "source": [
    "df[(df['Price']==300)]"
   ]
  },
  {
   "cell_type": "markdown",
   "id": "cdc77657",
   "metadata": {},
   "source": [
    "**Most ordered food price is 300**"
   ]
  },
  {
   "cell_type": "code",
   "execution_count": 46,
   "id": "f7010ed5",
   "metadata": {},
   "outputs": [
    {
     "data": {
      "text/plain": [
       "City\n",
       "Kolkata      1346\n",
       "Mumbai       1277\n",
       "Chennai      1106\n",
       "Pune         1090\n",
       "Hyderabad    1075\n",
       "Bangalore     946\n",
       "Ahmedabad     717\n",
       "Delhi         611\n",
       "Surat         512\n",
       "Name: count, dtype: int64"
      ]
     },
     "execution_count": 46,
     "metadata": {},
     "output_type": "execute_result"
    }
   ],
   "source": [
    "df['City'].value_counts()"
   ]
  },
  {
   "cell_type": "markdown",
   "id": "cf2d361c",
   "metadata": {},
   "source": [
    "Kolkata has more restaurants in this dataset"
   ]
  },
  {
   "cell_type": "markdown",
   "id": "977afb84",
   "metadata": {},
   "source": [
    "### Visualisation"
   ]
  },
  {
   "cell_type": "markdown",
   "id": "ee9c4181",
   "metadata": {},
   "source": [
    "### 1.Which city has the highest restaurants and which has the least"
   ]
  },
  {
   "cell_type": "code",
   "execution_count": 48,
   "id": "59c412e2",
   "metadata": {},
   "outputs": [
    {
     "data": {
      "image/png": "[encoded data removed]",
      "text/plain": [
       "<Figure size 640x480 with 1 Axes>"
      ]
     },
     "metadata": {},
     "output_type": "display_data"
    }
   ],
   "source": [
    "city = df.City.value_counts()\n",
    "\n",
    "plt.bar(city.index,city.values,color='red')\n",
    "plt.title('Restuarants Count By City')\n",
    "plt.xticks(rotation=90)\n",
    "plt.xlabel('Cities')\n",
    "plt.ylabel('Counts')\n",
    "\n",
    "for i,v in enumerate(city.values):\n",
    "    plt.text(i,v,str(v),ha='center')\n",
    "plt.show()\n"
   ]
  },
  {
   "cell_type": "markdown",
   "id": "ac061243",
   "metadata": {},
   "source": [
    "#### Insights:\n",
    "**Kolkata has the highest number of restaurants that co-works with swiggy and surat has the least`**"
   ]
  },
  {
   "cell_type": "markdown",
   "id": "05851af1",
   "metadata": {},
   "source": [
    "### 2.Display the frequency of average rating appropriate chart"
   ]
  },
  {
   "cell_type": "code",
   "execution_count": 52,
   "id": "74bb118e",
   "metadata": {},
   "outputs": [
    {
     "data": {
      "image/png": "[encoded data removed]",
      "text/plain": [
       "<Figure size 640x480 with 1 Axes>"
      ]
     },
     "metadata": {},
     "output_type": "display_data"
    }
   ],
   "source": [
    "plt.hist(df['Avg ratings'])\n",
    "plt.xlabel('Average Ratings')\n",
    "plt.ylabel('Frequency os ratings')\n",
    "plt.title('Frequency of Average Ratings',fontdict={'fontweight':'bold'})\n",
    "plt.show()"
   ]
  },
  {
   "cell_type": "markdown",
   "id": "619a4e60",
   "metadata": {},
   "source": [
    " 3.0 ratings has the most frequency in ratings"
   ]
  },
  {
   "cell_type": "markdown",
   "id": "d8119914",
   "metadata": {},
   "source": [
    "### 3.What is the top 10 ordered food type in swiggy"
   ]
  },
  {
   "cell_type": "code",
   "execution_count": 55,
   "id": "a36ad0ab",
   "metadata": {},
   "outputs": [
    {
     "data": {
      "image/png": "[encoded data removed]",
      "text/plain": [
       "<Figure size 640x480 with 1 Axes>"
      ]
     },
     "metadata": {},
     "output_type": "display_data"
    }
   ],
   "source": [
    "food = df['Food type'].value_counts().head(10)\n",
    "\n",
    "plt.bar(food.index,food.values)\n",
    "plt.xticks(rotation=90)\n",
    "\n",
    "for i,v in enumerate(food.values):\n",
    "    plt.text(i,v+.25,str(v),ha='center')\n",
    "\n",
    "plt.title('Top 10 Ordered Food Types',fontdict={'fontweight':'bold'})\n",
    "plt.xlabel(\"Food Types\")\n",
    "plt.ylabel(\"Order Count\")\n",
    "\n",
    "plt.show()"
   ]
  },
  {
   "cell_type": "markdown",
   "id": "0373a0e5",
   "metadata": {},
   "source": [
    "Indian food types has the most number of orders in swiggy and beverages has the least"
   ]
  },
  {
   "cell_type": "markdown",
   "id": "6aaafa2f",
   "metadata": {},
   "source": [
    "### 4.Which are the top 10 restaurants with fast delivery in Bangalore city."
   ]
  },
  {
   "cell_type": "code",
   "execution_count": 57,
   "id": "fbd25ecf",
   "metadata": {},
   "outputs": [
    {
     "data": {
      "image/png": "[encoded data removed]",
      "text/plain": [
       "<Figure size 800x600 with 1 Axes>"
      ]
     },
     "metadata": {},
     "output_type": "display_data"
    }
   ],
   "source": [
    "#Create b horizontal bar chart\n",
    "a = df.City == 'Bangalore'\n",
    "b = df[a]\n",
    "c =b.sort_values('Delivery time').head(10)\n",
    "\n",
    "plt.figure(figsize=(8,6))\n",
    "plt.barh(c.Restaurant[::-1],c['Delivery time'][::-1])\n",
    "for i,v in enumerate(c['Delivery time'][::-1]):\n",
    "    plt.text(v,i,str(v))\n",
    "\n",
    "plt.title('Top 10 Restaurants with Fastest Delivery in Bangalore',fontdict={'fontweight':'bold'})\n",
    "plt.xlabel('Time in minutes')\n",
    "plt.ylabel('Restaurant Names')\n",
    "plt.show()"
   ]
  },
  {
   "cell_type": "code",
   "execution_count": 58,
   "id": "1f74dd90",
   "metadata": {},
   "outputs": [
    {
     "data": {
      "image/png": "[encoded data removed]",
      "text/plain": [
       "<Figure size 640x480 with 1 Axes>"
      ]
     },
     "metadata": {},
     "output_type": "display_data"
    }
   ],
   "source": [
    "plt.scatter(df[\"Avg ratings\"], df[\"City\"])\n",
    "plt.show()"
   ]
  },
  {
   "cell_type": "code",
   "execution_count": null,
   "id": "2b0fb072",
   "metadata": {},
   "outputs": [],
   "source": []
  },
  {
   "cell_type": "code",
   "execution_count": null,
   "id": "0e737779",
   "metadata": {},
   "outputs": [],
   "source": []
  },
  {
   "cell_type": "code",
   "execution_count": null,
   "id": "3e62f506",
   "metadata": {},
   "outputs": [],
   "source": []
  },
  {
   "cell_type": "code",
   "execution_count": null,
   "id": "8855772b",
   "metadata": {},
   "outputs": [],
   "source": []
  }
 ],
 "metadata": {
  "kernelspec": {
   "display_name": "Python 3 (ipykernel)",
   "language": "python",
   "name": "python3"
  },
  "language_info": {
   "codemirror_mode": {
    "name": "ipython",
    "version": 3
   },
   "file_extension": ".py",
   "mimetype": "text/x-python",
   "name": "python",
   "nbconvert_exporter": "python",
   "pygments_lexer": "ipython3",
   "version": "3.11.5"
  }
 },
 "nbformat": 4,
 "nbformat_minor": 5
}
